{
 "cells": [
  {
   "cell_type": "markdown",
   "metadata": {
    "collapsed": false
   },
   "source": [
    "# MCS 320 Project One : Exploring Quaternions in SageMath"
   ]
  },
  {
   "cell_type": "markdown",
   "metadata": {
    "collapsed": false
   },
   "source": [
    "### 0.  Quaternion Algebra H\n",
    "\n",
    "To define our quaternion algebra we want to compute in, we work with the letters i, j, and k. We compute with complex numbers, the imaginary unit is I. Note: I  != i. In SageMath, our quaternion algebra H is then defined as\n"
   ]
  },
  {
   "cell_type": "code",
   "execution_count": 1,
   "metadata": {
    "collapsed": false
   },
   "outputs": [
   ],
   "source": [
    "H.<i,j,k> = QuaternionAlgebra(CC, -1, -1)"
   ]
  },
  {
   "cell_type": "markdown",
   "metadata": {
    "collapsed": false
   },
   "source": [
    "where the letter H is used in honor of Sir William Rowan Hamilton, who was the first to define quaternions.. The CC is the SageMath notation for the field C of complex numbers\n",
    "\n",
    "The -1,-1 in the definition of H implies\n",
    "\n",
    "$i^2$ = -1\n",
    "\n",
    "$j^2$ = -1\n",
    "\n",
    "$k^2$ = -1"
   ]
  },
  {
   "cell_type": "markdown",
   "metadata": {
    "collapsed": false
   },
   "source": [
    "To generate a quaternion r at random, we do \n",
    "\n",
    "$$ r = H.random element() $$ \n",
    "and\n",
    "$$ r.coefficient tuple() $$"
   ]
  },
  {
   "cell_type": "code",
   "execution_count": 2,
   "metadata": {
    "collapsed": false
   },
   "outputs": [
    {
     "data": {
      "text/plain": [
       "(-0.420604204618274 - 0.184114282349759*I,\n",
       " -0.397219264763613 + 0.393311284598518*I,\n",
       " 0.780474428900454 - 0.0972534297136260*I,\n",
       " -0.648725076785530 - 0.637771485862236*I)"
      ]
     },
     "execution_count": 2,
     "metadata": {
     },
     "output_type": "execute_result"
    }
   ],
   "source": [
    "r = H.random_element()\n",
    "# returns the tuple with the four complex coefficients\n",
    "r.coefficient_tuple()"
   ]
  },
  {
   "cell_type": "markdown",
   "metadata": {
    "collapsed": false
   },
   "source": [
    "returns the tuple with the four complex coefficients of r. So the space of all quaternions is four di- mensional, as four coefficients define a quaternion. For example, x = 1 + 2 i + 3 j + 4 k has the coefficient tuple (1, 2, 3, 4). The basis of this space is [1, i, j, k]. The code"
   ]
  },
  {
   "cell_type": "markdown",
   "metadata": {
    "collapsed": false
   },
   "source": [
    "So the space of all quaternions is four di- mensional, as four coefficients define a quaternion. For example, x = 1 + 2 i + 3 j + 4 k has the coefficient tuple (1, 2, 3, 4).\n",
    "\n",
    "\n",
    "basis = [1, i, j, k]\n",
    "    for x in basis:\n",
    "        print([x*y for y in basis])\n",
    "\n",
    "\n",
    "prints:\n",
    "\n",
    "[1, i, j, k]\n",
    "\n",
    "[i, -1.00000000000000, k, -j]\n",
    "\n",
    "[j, -k, -1.00000000000000, i]\n",
    "\n",
    "[k, j, -i, -1.00000000000000]"
   ]
  },
  {
   "cell_type": "markdown",
   "metadata": {
    "collapsed": false
   },
   "source": [
    "# 1. Assignment One: Find two quaternions p and q so that $(pq)^2$ is different from $(p^2)(q^2)$. Describe what you observe from your calculations.\n",
    "\n"
   ]
  },
  {
   "cell_type": "markdown",
   "metadata": {
    "collapsed": false
   },
   "source": [
    "### Let's generate random quaternion for p and q"
   ]
  },
  {
   "cell_type": "code",
   "execution_count": 3,
   "metadata": {
    "collapsed": false
   },
   "outputs": [
   ],
   "source": [
    "p = H.random_element()\n",
    "q = H.random_element()"
   ]
  },
  {
   "cell_type": "markdown",
   "metadata": {
    "collapsed": false
   },
   "source": [
    "### We'll use the variable pq1 to store the results of $(pq)^2$"
   ]
  },
  {
   "cell_type": "code",
   "execution_count": 4,
   "metadata": {
    "collapsed": false
   },
   "outputs": [
    {
     "data": {
      "text/plain": [
       "6.94900014899740 + 2.63217017604981*I + (-3.24471653916951 - 0.161842604628264*I)*i + (-0.216898836264981 + 8.10261731136418*I)*j + (3.01568021669414 - 2.08440844320387*I)*k"
      ]
     },
     "execution_count": 4,
     "metadata": {
     },
     "output_type": "execute_result"
    }
   ],
   "source": [
    "pq1 = (p*q)^2\n",
    "pq1"
   ]
  },
  {
   "cell_type": "markdown",
   "metadata": {
    "collapsed": false
   },
   "source": [
    "### We'll use the variable pq2 to store the results of $(p^2)(q^2)$"
   ]
  },
  {
   "cell_type": "code",
   "execution_count": 5,
   "metadata": {
    "collapsed": false
   },
   "outputs": [
    {
     "data": {
      "text/plain": [
       "4.94153326598751 + 5.69647569506931*I + (-0.395118776034332 + 2.68726174613795*I)*i + (-0.265178965726921 + 2.46859299065030*I)*j + (4.78081699409460 - 3.27563069387894*I)*k"
      ]
     },
     "execution_count": 5,
     "metadata": {
     },
     "output_type": "execute_result"
    }
   ],
   "source": [
    "pq2 = (p^2)*(q^2)\n",
    "pq2"
   ]
  },
  {
   "cell_type": "markdown",
   "metadata": {
    "collapsed": false
   },
   "source": [
    "### Coefficients of pq1"
   ]
  },
  {
   "cell_type": "code",
   "execution_count": 6,
   "metadata": {
    "collapsed": false
   },
   "outputs": [
    {
     "data": {
      "text/plain": [
       "(6.94900014899740 + 2.63217017604981*I,\n",
       " -3.24471653916951 - 0.161842604628264*I,\n",
       " -0.216898836264981 + 8.10261731136418*I,\n",
       " 3.01568021669414 - 2.08440844320387*I)"
      ]
     },
     "execution_count": 6,
     "metadata": {
     },
     "output_type": "execute_result"
    }
   ],
   "source": [
    "pq1.coefficient_tuple()"
   ]
  },
  {
   "cell_type": "markdown",
   "metadata": {
    "collapsed": false
   },
   "source": [
    "### Coefficients of pq2"
   ]
  },
  {
   "cell_type": "code",
   "execution_count": 7,
   "metadata": {
    "collapsed": false
   },
   "outputs": [
    {
     "data": {
      "text/plain": [
       "(4.94153326598751 + 5.69647569506931*I,\n",
       " -0.395118776034332 + 2.68726174613795*I,\n",
       " -0.265178965726921 + 2.46859299065030*I,\n",
       " 4.78081699409460 - 3.27563069387894*I)"
      ]
     },
     "execution_count": 7,
     "metadata": {
     },
     "output_type": "execute_result"
    }
   ],
   "source": [
    "pq2.coefficient_tuple()"
   ]
  },
  {
   "cell_type": "code",
   "execution_count": 8,
   "metadata": {
    "collapsed": false
   },
   "outputs": [
    {
     "name": "stdout",
     "output_type": "stream",
     "text": [
      "Sum of pq1:  6.50306499025705 + 8.48853643958186*I\n"
     ]
    }
   ],
   "source": [
    "print(\"Sum of pq1: \", sum(pq1))"
   ]
  },
  {
   "cell_type": "code",
   "execution_count": 9,
   "metadata": {
    "collapsed": false
   },
   "outputs": [
    {
     "name": "stdout",
     "output_type": "stream",
     "text": [
      "Sum of pq2:  9.06205251832086 + 7.57669973797862*I\n"
     ]
    }
   ],
   "source": [
    "print(\"Sum of pq2: \", sum(pq2))"
   ]
  },
  {
   "cell_type": "markdown",
   "metadata": {
    "collapsed": false
   },
   "source": [
    "### Observations:\n",
    "\n",
    "###### 1. pq1 is greater than pq2, therefore for comparing quaternions, $(pq)^2 > (p^2)(q^2)$\n",
    "###### 2. most coefficients in pq1 is twice or more larger than coefficients in pq2\n",
    "###### 3. The sum of pq1 = -3.31733435695344 + 6.51025793530517*I, the sum of pq2 = 3.88225052430343 + 1.40016851137270*I which makes the pq1 larger\n",
    "###### 4. We observe pq1 is not equal to pq2. It demonstrates that pq2 is greater than pq1. Therefore, $(pq)^2$ is different from $(p^2)(q^2)$."
   ]
  },
  {
   "cell_type": "markdown",
   "metadata": {
    "collapsed": false
   },
   "source": [
    "# Assignment Two: Find an example of a nonzero quaternion q for which ∥q∥ = 0. Explain how you constructed your example."
   ]
  },
  {
   "cell_type": "markdown",
   "metadata": {
    "collapsed": false
   },
   "source": [
    "###### For a quaternion q = a + bi + cj + dk, we can define a semi-norm as ∥q∥ = a2 + b2 + c2 + d2. \n",
    "\n",
    "###### We call it a semi-norm because the value of ∥q∥ can be negative, for example: take a = I, and b = c = d = 0."
   ]
  },
  {
   "cell_type": "markdown",
   "metadata": {
    "collapsed": false
   },
   "source": [
    "### Our example would be:"
   ]
  },
  {
   "cell_type": "code",
   "execution_count": 10,
   "metadata": {
    "collapsed": false
   },
   "outputs": [
   ],
   "source": [
    "a = I\n",
    "b = 1\n",
    "c = b\n",
    "d = a"
   ]
  },
  {
   "cell_type": "code",
   "execution_count": 11,
   "metadata": {
    "collapsed": false
   },
   "outputs": [
    {
     "data": {
      "text/plain": [
       "0"
      ]
     },
     "execution_count": 11,
     "metadata": {
     },
     "output_type": "execute_result"
    }
   ],
   "source": [
    "q = a^2 + b^2 + c^2 + d^2\n",
    "q"
   ]
  },
  {
   "cell_type": "markdown",
   "metadata": {
    "collapsed": false
   },
   "source": [
    "### How:\n",
    "\n",
    "We constructed our example but using a equals to $I$, then by assigning 1 to variable b, because 1 is the opposite of $ I$. We then assig c to b, and d to a, which then gives us a total of zero."
   ]
  },
  {
   "cell_type": "markdown",
   "metadata": {
    "collapsed": false
   },
   "source": [
    "### Explanation:\n",
    "\n",
    "if a = I\n",
    "\n",
    "then $a^2 = -1$\n",
    "\n",
    "\n",
    "if b = 1\n",
    "\n",
    "then $1^2 = 1$\n",
    "\n",
    "\n",
    "if c = b\n",
    "\n",
    "then $c^2 = 1$\n",
    "\n",
    "\n",
    "if d = a \n",
    "\n",
    "then $d^2 = I = -1$\n",
    "\n",
    "so we have $q = a^2 + b^2 + c^2 + d^2$\n",
    "\n",
    "q = -1 + 1 + 1 + -1\n",
    "\n",
    "which gives us a sum of\n",
    "\n",
    "||q|| = 0\n"
   ]
  },
  {
   "cell_type": "markdown",
   "metadata": {
    "collapsed": false
   },
   "source": [
    "# Assignment Three:"
   ]
  },
  {
   "cell_type": "markdown",
   "metadata": {
    "collapsed": false
   },
   "source": [
    "##### The 4-tuple with the coefficients of the quaternion is $(C, u1S, u2S, u3S), $where  $C = cos(\\theta/2) $ and $ S = sin(\\theta/2)$, or :\n",
    "##### $$  q = \\cos(\\theta/2) + (u_1i + u_2j + u_3k) \\sin(\\theta/2) $$\n",
    "\n",
    "The application of the rotation represented by _q_ on the vector $p = p_1i + p_2j + p_3k$ is defined by the\n",
    "Hamilton product: $r = qpq^{−1} $ where _r_ is the rotation of vector _p_, rotated about the axis _u_ and angle _θ_.\n",
    "\n",
    "\n"
   ]
  },
  {
   "cell_type": "markdown",
   "metadata": {
    "collapsed": false
   },
   "source": [
    "# Question 3 Part 1: Take  $ \\theta = \\pi/6 $ and $ u =(i + j + k)/\\sqrt{3} $ . \n",
    "### a. Define the quaternion q which represents the rotation. "
   ]
  },
  {
   "cell_type": "code",
   "execution_count": 12,
   "metadata": {
    "collapsed": false
   },
   "outputs": [
   ],
   "source": [
    "reset()"
   ]
  },
  {
   "cell_type": "markdown",
   "metadata": {
    "collapsed": false
   },
   "source": [
    "##### FOUR NUMBERS ARE NEEDED TO REPRESENT A SPATIAL ROTATION:\n",
    "##### WE have 1 angle of rotation "
   ]
  },
  {
   "cell_type": "code",
   "execution_count": 13,
   "metadata": {
    "collapsed": false
   },
   "outputs": [
   ],
   "source": [
    "theta = pi/6\n",
    "angle_of_rotation = cos(theta/2)"
   ]
  },
  {
   "cell_type": "markdown",
   "metadata": {
    "collapsed": false
   },
   "source": [
    "### We have 3 coordinates of the axis of the rotation which we will store in variable $u$"
   ]
  },
  {
   "cell_type": "code",
   "execution_count": 14,
   "metadata": {
    "collapsed": false
   },
   "outputs": [
   ],
   "source": [
    "i,j,k = var('i,j,k')\n",
    "u = (i+j+k)/(sqrt(3))"
   ]
  },
  {
   "cell_type": "markdown",
   "metadata": {
    "collapsed": false
   },
   "source": [
    "### FORMULA: $cos(\\theta/2) + (u1*i + u2*j + u3*k)*sin(\\theta/2)$\n",
    "### QUATERNION"
   ]
  },
  {
   "cell_type": "code",
   "execution_count": 15,
   "metadata": {
    "collapsed": false
   },
   "outputs": [
    {
     "data": {
      "text/html": [
       "<html>\\(\\displaystyle \\frac{1}{12} \\, {\\left(\\sqrt{3} {\\left(i + j + k\\right)} i + \\sqrt{3} {\\left(i + j + k\\right)} j + \\sqrt{3} {\\left(i + j + k\\right)} k\\right)} {\\left(\\sqrt{6} - \\sqrt{2}\\right)} + \\frac{1}{4} \\, \\sqrt{6} + \\frac{1}{4} \\, \\sqrt{2}\\)</html>"
      ],
      "text/latex": [
       "$\\displaystyle \\frac{1}{12} \\, {\\left(\\sqrt{3} {\\left(i + j + k\\right)} i + \\sqrt{3} {\\left(i + j + k\\right)} j + \\sqrt{3} {\\left(i + j + k\\right)} k\\right)} {\\left(\\sqrt{6} - \\sqrt{2}\\right)} + \\frac{1}{4} \\, \\sqrt{6} + \\frac{1}{4} \\, \\sqrt{2}$"
      ],
      "text/plain": [
       "1/12*(sqrt(3)*(i + j + k)*i + sqrt(3)*(i + j + k)*j + sqrt(3)*(i + j + k)*k)*(sqrt(6) - sqrt(2)) + 1/4*sqrt(6) + 1/4*sqrt(2)"
      ]
     },
     "execution_count": 15,
     "metadata": {
     },
     "output_type": "execute_result"
    }
   ],
   "source": [
    "q = angle_of_rotation + (((u*i) + (u*j) + (u*k))*sin(theta/2))\n",
    "show(q)"
   ]
  },
  {
   "cell_type": "markdown",
   "metadata": {
    "collapsed": false
   },
   "source": [
    "### b. Verify that the quaternion with same ``u`` but angle  $-\\theta $ defines the inverse q^-1 of q. In particular, use $-\\theta $ and u to define the quaternion m and show that mq = 1 = qm, so m = q^-1."
   ]
  },
  {
   "cell_type": "markdown",
   "metadata": {
    "collapsed": false
   },
   "source": [
    "##### WE ARE GOING TO SHOW THE INVERSE BY DEFINING ANGLE AS NEGATIVE THETA"
   ]
  },
  {
   "cell_type": "code",
   "execution_count": 16,
   "metadata": {
    "collapsed": false
   },
   "outputs": [
   ],
   "source": [
    "theta =-1*(pi/6)\n",
    "angle_of_rotation = cos(theta/2)"
   ]
  },
  {
   "cell_type": "markdown",
   "metadata": {
    "collapsed": false
   },
   "source": [
    "##### THE INVERSE QUATERNION WILL BE STORED IN VARIABLE $m$"
   ]
  },
  {
   "cell_type": "code",
   "execution_count": 17,
   "metadata": {
    "collapsed": false
   },
   "outputs": [
   ],
   "source": [
    "m = (angle_of_rotation + (((u*i) + (u*j) + (u*k))*sin(theta/2)))"
   ]
  },
  {
   "cell_type": "markdown",
   "metadata": {
    "collapsed": false
   },
   "source": [
    "### $Quaternion$ $m$"
   ]
  },
  {
   "cell_type": "code",
   "execution_count": 18,
   "metadata": {
    "collapsed": false
   },
   "outputs": [
    {
     "data": {
      "text/html": [
       "<html>\\(\\displaystyle -\\frac{1}{12} \\, {\\left(\\sqrt{3} {\\left(i + j + k\\right)} i + \\sqrt{3} {\\left(i + j + k\\right)} j + \\sqrt{3} {\\left(i + j + k\\right)} k\\right)} {\\left(\\sqrt{6} - \\sqrt{2}\\right)} + \\frac{1}{4} \\, \\sqrt{6} + \\frac{1}{4} \\, \\sqrt{2}\\)</html>"
      ],
      "text/latex": [
       "$\\displaystyle -\\frac{1}{12} \\, {\\left(\\sqrt{3} {\\left(i + j + k\\right)} i + \\sqrt{3} {\\left(i + j + k\\right)} j + \\sqrt{3} {\\left(i + j + k\\right)} k\\right)} {\\left(\\sqrt{6} - \\sqrt{2}\\right)} + \\frac{1}{4} \\, \\sqrt{6} + \\frac{1}{4} \\, \\sqrt{2}$"
      ],
      "text/plain": [
       "-1/12*(sqrt(3)*(i + j + k)*i + sqrt(3)*(i + j + k)*j + sqrt(3)*(i + j + k)*k)*(sqrt(6) - sqrt(2)) + 1/4*sqrt(6) + 1/4*sqrt(2)"
      ]
     },
     "execution_count": 18,
     "metadata": {
     },
     "output_type": "execute_result"
    }
   ],
   "source": [
    "show(m)"
   ]
  },
  {
   "cell_type": "markdown",
   "metadata": {
    "collapsed": false
   },
   "source": [
    "### Below we will show that mq = qm"
   ]
  },
  {
   "cell_type": "code",
   "execution_count": 19,
   "metadata": {
    "collapsed": false
   },
   "outputs": [
    {
     "data": {
      "text/plain": [
       "-1/144*((sqrt(3)*(i + j + k)*i + sqrt(3)*(i + j + k)*j + sqrt(3)*(i + j + k)*k)*(sqrt(6) - sqrt(2)) + 3*sqrt(6) + 3*sqrt(2))*((sqrt(3)*(i + j + k)*i + sqrt(3)*(i + j + k)*j + sqrt(3)*(i + j + k)*k)*(sqrt(6) - sqrt(2)) - 3*sqrt(6) - 3*sqrt(2))"
      ]
     },
     "execution_count": 19,
     "metadata": {
     },
     "output_type": "execute_result"
    }
   ],
   "source": [
    "q*m"
   ]
  },
  {
   "cell_type": "code",
   "execution_count": 20,
   "metadata": {
    "collapsed": false
   },
   "outputs": [
    {
     "data": {
      "text/plain": [
       "-1/144*((sqrt(3)*(i + j + k)*i + sqrt(3)*(i + j + k)*j + sqrt(3)*(i + j + k)*k)*(sqrt(6) - sqrt(2)) + 3*sqrt(6) + 3*sqrt(2))*((sqrt(3)*(i + j + k)*i + sqrt(3)*(i + j + k)*j + sqrt(3)*(i + j + k)*k)*(sqrt(6) - sqrt(2)) - 3*sqrt(6) - 3*sqrt(2))"
      ]
     },
     "execution_count": 20,
     "metadata": {
     },
     "output_type": "execute_result"
    }
   ],
   "source": [
    "m*q"
   ]
  },
  {
   "cell_type": "markdown",
   "metadata": {
    "collapsed": false
   },
   "source": [
    "### Below is m = q^-1"
   ]
  },
  {
   "cell_type": "code",
   "execution_count": 21,
   "metadata": {
    "collapsed": false
   },
   "outputs": [
    {
     "data": {
      "text/plain": [
       "-1/12*(sqrt(3)*(i + j + k)*i + sqrt(3)*(i + j + k)*j + sqrt(3)*(i + j + k)*k)*(sqrt(6) - sqrt(2)) + 1/4*sqrt(6) + 1/4*sqrt(2)"
      ]
     },
     "execution_count": 21,
     "metadata": {
     },
     "output_type": "execute_result"
    }
   ],
   "source": [
    "m"
   ]
  },
  {
   "cell_type": "code",
   "execution_count": 22,
   "metadata": {
    "collapsed": false
   },
   "outputs": [
    {
     "data": {
      "text/plain": [
       "1/12*(sqrt(3)*(i + j + k)*i + sqrt(3)*(i + j + k)*j + sqrt(3)*(i + j + k)*k)*(sqrt(6) - sqrt(2)) + 1/4*sqrt(6) + 1/4*sqrt(2)"
      ]
     },
     "execution_count": 22,
     "metadata": {
     },
     "output_type": "execute_result"
    }
   ],
   "source": [
    "q"
   ]
  },
  {
   "cell_type": "markdown",
   "metadata": {
    "collapsed": false
   },
   "source": [
    "# Question 3 Part 2: Consider the vector p=i+2j+3k."
   ]
  },
  {
   "cell_type": "markdown",
   "metadata": {
    "collapsed": false
   },
   "source": [
    "##### The application of the rotation represented by _q_ on the  vector $$  p = p_1i + p_2j + p_3k $$\n",
    "##### is defined by the Hamilton product: \n",
    "##### $$ r = qpq^{−1} $$ \n",
    "##### where _r_ is the rotation of vector _p_, rotated about the axis _u_ and angle _θ_.\n",
    "\n"
   ]
  },
  {
   "cell_type": "markdown",
   "metadata": {
    "collapsed": false
   },
   "source": [
    "### a. Compute the rotation r of p, rotated about u with angle $\\theta$."
   ]
  },
  {
   "cell_type": "markdown",
   "metadata": {
    "collapsed": false
   },
   "source": [
    "### GIVEN:"
   ]
  },
  {
   "cell_type": "code",
   "execution_count": 23,
   "metadata": {
    "collapsed": false
   },
   "outputs": [
    {
     "data": {
      "text/html": [
       "<html>\\(\\displaystyle i + 2 \\, j + 3 \\, k\\)</html>"
      ],
      "text/latex": [
       "$\\displaystyle i + 2 \\, j + 3 \\, k$"
      ],
      "text/plain": [
       "i + 2*j + 3*k"
      ]
     },
     "execution_count": 23,
     "metadata": {
     },
     "output_type": "execute_result"
    }
   ],
   "source": [
    "p = i + 2*j + 3*k\n",
    "show(p)"
   ]
  },
  {
   "cell_type": "markdown",
   "metadata": {
    "collapsed": false
   },
   "source": [
    "### FORMULA:\n",
    "\n",
    "##### $$ r = qpq^{−1} $$ "
   ]
  },
  {
   "cell_type": "markdown",
   "metadata": {
    "collapsed": false
   },
   "source": [
    "### Use ``m`` As inverse of q"
   ]
  },
  {
   "cell_type": "code",
   "execution_count": 24,
   "metadata": {
    "collapsed": false
   },
   "outputs": [
   ],
   "source": [
    "m = q^-1"
   ]
  },
  {
   "cell_type": "code",
   "execution_count": 25,
   "metadata": {
    "collapsed": false
   },
   "outputs": [
    {
     "data": {
      "text/plain": [
       "i + 2*j + 3*k"
      ]
     },
     "execution_count": 25,
     "metadata": {
     },
     "output_type": "execute_result"
    }
   ],
   "source": [
    "r = q*p*m\n",
    "r"
   ]
  },
  {
   "cell_type": "markdown",
   "metadata": {
    "collapsed": false
   },
   "source": [
    "### Verify"
   ]
  },
  {
   "cell_type": "markdown",
   "metadata": {
    "collapsed": false
   },
   "source": [
    "###  that the inverse rotation applied to r, the rotated p, equals p."
   ]
  },
  {
   "cell_type": "code",
   "execution_count": 26,
   "metadata": {
    "collapsed": false
   },
   "outputs": [
    {
     "data": {
      "text/plain": [
       "i + 2*j + 3*k"
      ]
     },
     "execution_count": 26,
     "metadata": {
     },
     "output_type": "execute_result"
    }
   ],
   "source": [
    "r"
   ]
  },
  {
   "cell_type": "code",
   "execution_count": 27,
   "metadata": {
    "collapsed": false
   },
   "outputs": [
    {
     "data": {
      "text/plain": [
       "i + 2*j + 3*k"
      ]
     },
     "execution_count": 27,
     "metadata": {
     },
     "output_type": "execute_result"
    }
   ],
   "source": [
    "p"
   ]
  }
 ],
 "metadata": {
  "kernelspec": {
   "display_name": "SageMath 9.6",
   "language": "sagemath",
   "metadata": {
    "cocalc": {
     "description": "Open-source mathematical software system",
     "priority": 10,
     "url": "https://www.sagemath.org/"
    }
   },
   "name": "sage-9.6",
   "resource_dir": "/ext/jupyter/kernels/sage-9.6"
  },
  "language_info": {
   "codemirror_mode": {
    "name": "ipython",
    "version": 3
   },
   "file_extension": ".py",
   "mimetype": "text/x-python",
   "name": "python",
   "nbconvert_exporter": "python",
   "pygments_lexer": "ipython3",
   "version": "3.10.3"
  }
 },
 "nbformat": 4,
 "nbformat_minor": 4
}